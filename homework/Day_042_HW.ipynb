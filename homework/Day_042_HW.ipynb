{
 "cells": [
  {
   "cell_type": "markdown",
   "metadata": {},
   "source": [
    "## [作業重點]\n",
    "目前你應該已經要很清楚資料集中，資料的型態是什麼樣子囉！包含特徵 (features) 與標籤 (labels)。因此要記得未來不管什麼專案，必須要把資料清理成相同的格式，才能送進模型訓練。\n",
    "今天的作業開始踏入決策樹這個非常重要的模型，請務必確保你理解模型中每個超參數的意思，並試著調整看看，對最終預測結果的影響為何"
   ]
  },
  {
   "cell_type": "markdown",
   "metadata": {},
   "source": [
    "## 作業\n",
    "\n",
    "1. 試著調整 DecisionTreeClassifier(...) 中的參數，並觀察是否會改變結果？\n",
    "2. 改用其他資料集 (boston, wine)，並與回歸模型的結果進行比較"
   ]
  },
  {
   "cell_type": "code",
   "execution_count": 24,
   "metadata": {},
   "outputs": [],
   "source": [
    "from sklearn.tree import DecisionTreeRegressor\n",
    "from sklearn.tree import DecisionTreeClassifier\n",
    "from sklearn.datasets import load_boston, load_wine\n",
    "from sklearn.model_selection import train_test_split\n",
    "from sklearn.metrics import mean_squared_error, r2_score, accuracy_score"
   ]
  },
  {
   "cell_type": "code",
   "execution_count": 25,
   "metadata": {},
   "outputs": [],
   "source": [
    "# 讀取糖尿病資料集\n",
    "wine = load_wine()\n",
    "\n",
    "# 切分訓練集/測試集\n",
    "x_train, x_test, y_train, y_test = train_test_split(wine.data, wine.target, test_size=0.1, random_state=4)\n",
    "clf1 = DecisionTreeClassifier(criterion='entropy', random_state=4)\n",
    "clf2 = DecisionTreeClassifier(criterion='gini',max_depth=2, random_state=2)\n",
    "clf3 = DecisionTreeClassifier(criterion='gini',min_samples_split=3, random_state=4)\n",
    "clf1.fit(x_train,y_train)\n",
    "clf2.fit(x_train,y_train)\n",
    "clf3.fit(x_train,y_train)\n",
    "y_pred1=clf1.predict(x_test)\n",
    "y_pred2=clf2.predict(x_test)\n",
    "y_pred3=clf3.predict(x_test)"
   ]
  },
  {
   "cell_type": "code",
   "execution_count": 26,
   "metadata": {},
   "outputs": [
    {
     "name": "stdout",
     "output_type": "stream",
     "text": [
      "No1 1.0\n",
      "No2 0.8888888888888888\n",
      "No2 0.9444444444444444\n",
      "y_test [2 2 0 0 1 2 0 1 0 1 1 0 2 2 0 1 0 1]\n",
      "y_pred1 [2 2 0 0 1 2 0 1 0 1 1 0 2 2 0 1 0 1]\n"
     ]
    }
   ],
   "source": [
    "acc1=accuracy_score(y_test,y_pred1)\n",
    "acc2=accuracy_score(y_test,y_pred2)\n",
    "acc3=accuracy_score(y_test,y_pred3)\n",
    "print(\"No1\",acc1)\n",
    "print(\"No2\",acc2)\n",
    "print(\"No2\",acc3)\n",
    "print(\"y_test\",y_test)\n",
    "print(\"y_pred1\",y_pred1)"
   ]
  },
  {
   "cell_type": "code",
   "execution_count": 44,
   "metadata": {},
   "outputs": [
    {
     "name": "stdout",
     "output_type": "stream",
     "text": [
      "Mean squared error: 26.46\n",
      "B_Mean squared error: 23.15\n"
     ]
    },
    {
     "data": {
      "text/plain": [
       "array([23.7, 24.8, 19.3, 14.4, 44.8, 23.8, 37.3, 17.5, 10.9, 16.4, 37. ,\n",
       "       16.5, 24.5, 22.1, 20.6, 14.1, 16.8, 12.8, 10.9, 16.4,  7.2, 16.4,\n",
       "       20.5, 18.4, 23.4, 20.4, 14.4, 16.7, 23. , 27.1, 13.4, 22.2, 30.7,\n",
       "       20.3, 18.4, 10.2, 33.2, 44. , 24.5, 21.1, 43.5, 37. , 10.9, 35.4,\n",
       "       30.1, 19.6, 50. , 27.1, 23. , 20.6, 31.6])"
      ]
     },
     "execution_count": 44,
     "metadata": {},
     "output_type": "execute_result"
    }
   ],
   "source": [
    "boston = load_boston()\n",
    "\n",
    "# 切分訓練集/測試集\n",
    "x_train, x_test, y_train, y_test = train_test_split(boston.data, boston.target, test_size=0.1, random_state=4)\n",
    "reg = DecisionTreeRegressor(random_state=4,max_depth=3)\n",
    "regb = DecisionTreeRegressor(splitter='best',random_state=4)\n",
    "reg.fit(x_train,y_train)\n",
    "regb.fit(x_train,y_train)\n",
    "y_pred=reg.predict(x_test)\n",
    "y_predb=regb.predict(x_test)\n",
    "# 預測值與實際值的差距，使用 MSE\n",
    "print(\"Mean squared error: %.2f\"\n",
    "      % mean_squared_error(y_test, y_pred))\n",
    "print(\"B_Mean squared error: %.2f\"\n",
    "      % mean_squared_error(y_test, y_predb))\n",
    "y_predb"
   ]
  },
  {
   "cell_type": "code",
   "execution_count": null,
   "metadata": {},
   "outputs": [],
   "source": []
  },
  {
   "cell_type": "code",
   "execution_count": null,
   "metadata": {},
   "outputs": [],
   "source": []
  }
 ],
 "metadata": {
  "kernelspec": {
   "display_name": "Python 3",
   "language": "python",
   "name": "python3"
  },
  "language_info": {
   "codemirror_mode": {
    "name": "ipython",
    "version": 3
   },
   "file_extension": ".py",
   "mimetype": "text/x-python",
   "name": "python",
   "nbconvert_exporter": "python",
   "pygments_lexer": "ipython3",
   "version": "3.7.6"
  }
 },
 "nbformat": 4,
 "nbformat_minor": 2
}

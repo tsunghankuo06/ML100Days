{
 "cells": [
  {
   "cell_type": "markdown",
   "metadata": {},
   "source": [
    "## [作業重點]\n",
    "確保你了解隨機森林模型中每個超參數的意義，並觀察調整超參數對結果的影響"
   ]
  },
  {
   "cell_type": "markdown",
   "metadata": {},
   "source": [
    "## 作業\n",
    "\n",
    "1. 試著調整 RandomForestClassifier(...) 中的參數，並觀察是否會改變結果？\n",
    "2. 改用其他資料集 (boston, wine)，並與回歸模型與決策樹的結果進行比較"
   ]
  },
  {
   "cell_type": "code",
   "execution_count": 15,
   "metadata": {},
   "outputs": [],
   "source": [
    "import numpy as np\n",
    "import matplotlib.pyplot as plt\n",
    "from sklearn.datasets import load_boston, load_wine\n",
    "from sklearn.model_selection import train_test_split\n",
    "from sklearn.metrics import mean_squared_error, r2_score, accuracy_score\n",
    "\n",
    "from sklearn.ensemble import RandomForestClassifier,RandomForestRegressor\n",
    "from sklearn.tree import DecisionTreeClassifier, DecisionTreeRegressor"
   ]
  },
  {
   "cell_type": "code",
   "execution_count": 22,
   "metadata": {},
   "outputs": [
    {
     "name": "stdout",
     "output_type": "stream",
     "text": [
      "Mean squared error1: 15.88\n",
      "Mean squared error2: 12.75\n",
      "Mean squared error3: 13.62\n",
      "Mean squared error4: 12.77\n"
     ]
    }
   ],
   "source": [
    "boston = load_boston()\n",
    "\n",
    "# 切分訓練集/測試集\n",
    "x_train, x_test, y_train, y_test = train_test_split(boston.data, boston.target, test_size=0.1, random_state=4)\n",
    "\n",
    "# 建立模型 (使用 20 顆樹，每棵樹的最大深度為 4)\n",
    "RFR1 = RandomForestRegressor(n_estimators=20, max_depth=3,random_state=4)\n",
    "RFR2 = RandomForestRegressor(n_estimators=20, max_depth=4,random_state=4,min_samples_split=2)\n",
    "RFR3 = RandomForestRegressor(n_estimators=10, max_depth=4,random_state=4)\n",
    "RFR4 = RandomForestRegressor(n_estimators=15, max_depth=4,random_state=4)\n",
    "# 訓練模型\n",
    "RFR1.fit(x_train, y_train)\n",
    "RFR2.fit(x_train, y_train)\n",
    "RFR3.fit(x_train, y_train)\n",
    "RFR4.fit(x_train, y_train)\n",
    "# 預測測試集\n",
    "y_pred1= RFR1.predict(x_test)\n",
    "y_pred2 = RFR2.predict(x_test)\n",
    "y_pred3 = RFR3.predict(x_test)\n",
    "y_pred4= RFR4.predict(x_test)\n",
    "\n",
    "# 預測值與實際值的差距，使用 MSE\n",
    "print(\"Mean squared error1: %.2f\"\n",
    "      % mean_squared_error(y_test, y_pred1))\n",
    "print(\"Mean squared error2: %.2f\"\n",
    "      % mean_squared_error(y_test, y_pred2))\n",
    "print(\"Mean squared error3: %.2f\"\n",
    "      % mean_squared_error(y_test, y_pred3))\n",
    "print(\"Mean squared error4: %.2f\"\n",
    "      % mean_squared_error(y_test, y_pred4))"
   ]
  },
  {
   "cell_type": "code",
   "execution_count": 26,
   "metadata": {},
   "outputs": [],
   "source": [
    "wine=load_wine()\n",
    "\n",
    "# 切分訓練集/測試集\n",
    "x_train, x_test, y_train, y_test = train_test_split(wine.data, wine.target, test_size=0.1, random_state=4)\n",
    "RFC=RandomForestClassifier()\n",
    "RFC.fit(x_train,y_train)\n",
    "y_pred= RFC.predict(x_test)"
   ]
  },
  {
   "cell_type": "code",
   "execution_count": 27,
   "metadata": {},
   "outputs": [
    {
     "data": {
      "text/plain": [
       "1.0"
      ]
     },
     "execution_count": 27,
     "metadata": {},
     "output_type": "execute_result"
    }
   ],
   "source": [
    "acc=accuracy_score(y_test,y_pred)\n",
    "acc"
   ]
  },
  {
   "cell_type": "code",
   "execution_count": null,
   "metadata": {},
   "outputs": [],
   "source": []
  }
 ],
 "metadata": {
  "kernelspec": {
   "display_name": "Python 3",
   "language": "python",
   "name": "python3"
  },
  "language_info": {
   "codemirror_mode": {
    "name": "ipython",
    "version": 3
   },
   "file_extension": ".py",
   "mimetype": "text/x-python",
   "name": "python",
   "nbconvert_exporter": "python",
   "pygments_lexer": "ipython3",
   "version": "3.7.6"
  }
 },
 "nbformat": 4,
 "nbformat_minor": 2
}
